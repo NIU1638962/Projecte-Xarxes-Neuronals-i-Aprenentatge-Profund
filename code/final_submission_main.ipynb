{
 "cells": [
  {
   "cell_type": "markdown",
   "id": "4bbaf90b-a2f7-487b-9851-c0919148567c",
   "metadata": {
    "editable": true,
    "slideshow": {
     "slide_type": ""
    },
    "tags": []
   },
   "source": [
    "# Set Up"
   ]
  },
  {
   "cell_type": "code",
   "execution_count": null,
   "id": "43df821c-f2ac-4e79-887d-7325071f64e8",
   "metadata": {
    "scrolled": true
   },
   "outputs": [],
   "source": [
    "import api_wandb\n",
    "import data_processing\n",
    "import environment\n",
    "import executions\n",
    "import main\n",
    "import utils"
   ]
  },
  {
   "cell_type": "markdown",
   "id": "2afb525c-3a53-4600-a50c-9e3ef78a8498",
   "metadata": {},
   "source": [
    "Set the path to the [FMA](https://github.com/mdeff/fma?tab=readme-ov-file) data directory. This directory should contain two folders; a folder called `fma_large` obtained from [https://os.unil.cloud.switch.ch/fma/fma_large.zip](https://os.unil.cloud.switch.ch/fma/fma_large.zip) and another folder called `fma_metadata` obtained from [https://os.unil.cloud.switch.ch/fma/fma_metadata.zip](https://os.unil.cloud.switch.ch/fma/fma_metadata.zip).\n",
    "In the machines we used from the Guacamole server with the user `EDXN01` the path was : `\"/home/datasets/FreeMusicArchive\"`, change yours accordingly here:"
   ]
  },
  {
   "cell_type": "code",
   "execution_count": null,
   "id": "cdfbf0b8-6c76-4c36-b211-790673e025fb",
   "metadata": {
    "scrolled": true
   },
   "outputs": [],
   "source": [
    "environment.DATA_PATH = \"/home/datasets/FreeMusicArchive\"\n",
    "print(f'Data path set up to: \"{environment.DATA_PATH}\"')"
   ]
  },
  {
   "cell_type": "markdown",
   "id": "2536c415-8615-42f3-b503-37f4362b45ef",
   "metadata": {
    "editable": true,
    "slideshow": {
     "slide_type": ""
    },
    "tags": []
   },
   "source": [
    "To test and debug the code this program can be ran in two modes:\n",
    "- `INFO` which will deactivate debug funtionalities and ran the code with the whole dataset.\n",
    "- `DEBUG` wich will activate debug functionalities and ran the code with only 100 random samples of the dataset."
   ]
  },
  {
   "cell_type": "markdown",
   "id": "9d173094-44f5-4e78-a8d2-301914daea73",
   "metadata": {},
   "source": [
    "We run it in `INFO` level, if you wish to run it in `DEBUG` change it here:"
   ]
  },
  {
   "cell_type": "code",
   "execution_count": null,
   "id": "b33f05e9-eb1b-4414-801d-87701f77adeb",
   "metadata": {
    "scrolled": true
   },
   "outputs": [],
   "source": [
    "environment.LOG_LEVEL = environment.logging.INFO"
   ]
  },
  {
   "cell_type": "markdown",
   "id": "5235c059-f899-4de5-b74e-127966c2a282",
   "metadata": {},
   "source": [
    "And we set up the Weights & Biases logging (wandb). If you do not want to use wandb set `environment.WANDB_LOGGING` to `False`."
   ]
  },
  {
   "cell_type": "code",
   "execution_count": null,
   "id": "720d4f9d-70cb-4656-8bf5-c2e7124714ea",
   "metadata": {
    "scrolled": true
   },
   "outputs": [],
   "source": [
    "environment.WANDB_LOGGING = True # Set it to False to disable wandb logging\n",
    "if environment.WANDB_LOGGING:\n",
    "    environment.os.environ[\"WANDB_NOTEBOOK_NAME\"] = \"final_submission_main.ipynb\""
   ]
  },
  {
   "cell_type": "markdown",
   "id": "13997bec-095a-4e5e-a814-a4df7e96b1ed",
   "metadata": {},
   "source": [
    "For our project we used our entity `\"grup-1-Xarxes-Neuronals-i-Aprenentatge-Profund\"` and project `\"fma-genre-classification\"`, repalce this with your team and project name found at [https://wandb.ai/](https://wandb.ai/) so you can access the results."
   ]
  },
  {
   "cell_type": "code",
   "execution_count": null,
   "id": "02879248-1d43-4865-9403-d179750476ab",
   "metadata": {
    "scrolled": true
   },
   "outputs": [],
   "source": [
    "if environment.WANDB_LOGGING:\n",
    "    api_wandb.ENTITY = \"grup-1-Xarxes-Neuronals-i-Aprenentatge-Profund\"\n",
    "    api_wandb.PROJECT = \"fma-genre-classification\"\n",
    "    print(f'WANDB Entity set up to: {api_wandb.ENTITY}')\n",
    "    print(f'WANDB Project set up to: {api_wandb.PROJECT}')"
   ]
  },
  {
   "cell_type": "markdown",
   "id": "b7680ce0-a776-4490-be49-28adae39b478",
   "metadata": {},
   "source": [
    "Logging on your Weight & Bias account using your API key found at [https://wandb.ai/authorize](https://wandb.ai/authorize).\n",
    "If `environment.WANDB_LOGGING` set to `False` it will not prompt you to log in using your wandb API key."
   ]
  },
  {
   "cell_type": "code",
   "execution_count": null,
   "id": "0988d375-a730-463f-9247-afd2be096455",
   "metadata": {
    "scrolled": true
   },
   "outputs": [],
   "source": [
    "if environment.WANDB_LOGGING:\n",
    "    environment.wandb.login(relogin=True, force=True, verify=True)"
   ]
  },
  {
   "cell_type": "markdown",
   "id": "f155e2d2-e27c-4038-afe4-ad5666cf992f",
   "metadata": {
    "editable": true,
    "slideshow": {
     "slide_type": ""
    },
    "tags": []
   },
   "source": [
    "This variable controls if when an execution of the run fails it continues to the next one printing the error (set to `True`) or it raises the error and stops the Notebook (set to `False`)."
   ]
  },
  {
   "cell_type": "code",
   "execution_count": null,
   "id": "69d1855e-fc35-4684-b66c-61a6cf639ed4",
   "metadata": {},
   "outputs": [],
   "source": [
    "executions.NEXT_WHEN_ERROR = False"
   ]
  },
  {
   "cell_type": "markdown",
   "id": "ea4639bb-af12-4762-8c76-478194a7700b",
   "metadata": {},
   "source": [
    "We initialize the environment:"
   ]
  },
  {
   "cell_type": "code",
   "execution_count": null,
   "id": "5f4589fc-4681-4c6f-a3c0-97f39eba8ed3",
   "metadata": {
    "scrolled": true
   },
   "outputs": [],
   "source": [
    "environment.init()"
   ]
  },
  {
   "cell_type": "markdown",
   "id": "080144d6-b08a-4fcb-b85d-d998ce26480d",
   "metadata": {},
   "source": [
    "# Verify data is downloaded, is not corrupted, can be read correctly and loaded properly\n",
    "This will verify that all the data downloaded from the FMA dataset is not corrupte,d the sumchecks match and all files are in the correctdirectoryy. It will also load the data and sade the paths into a file for faster executions times. This will take some time the first time executed but from then on will be alssot inmediatly."
   ]
  },
  {
   "cell_type": "code",
   "execution_count": null,
   "id": "ded406e0-c9b1-46a8-a698-b0b43fd057bc",
   "metadata": {
    "scrolled": true
   },
   "outputs": [],
   "source": [
    "data_processing.get_data()"
   ]
  },
  {
   "cell_type": "markdown",
   "id": "fc25fe75-c9ea-498c-88a2-78b7e12e3f5b",
   "metadata": {},
   "source": [
    "# Experiments and Executions"
   ]
  },
  {
   "cell_type": "markdown",
   "id": "2aa09e87-f3c3-4f51-805c-92054be97896",
   "metadata": {},
   "source": [
    "Here we have all the experiments and executions we have done with the configuration code to run the `main.main()` on them."
   ]
  },
  {
   "cell_type": "markdown",
   "id": "681a7c74-f191-40da-aa31-4db8844147d4",
   "metadata": {},
   "source": [
    "We used to train 100 epochs, with it each execution takes between 5 to 8 hours, if you want to execute something quick to check if it works lower the amount of epochs to 1 or 2."
   ]
  },
  {
   "cell_type": "code",
   "execution_count": null,
   "id": "929b5e02-3b28-40ad-9fc3-782533e3b87b",
   "metadata": {
    "editable": true,
    "slideshow": {
     "slide_type": ""
    },
    "tags": []
   },
   "outputs": [],
   "source": [
    "executions.NUMBER_EPOCHS = 100"
   ]
  },
  {
   "cell_type": "markdown",
   "id": "528daf23-e8c2-4065-97ee-9db0bdaa7d41",
   "metadata": {},
   "source": [
    "## WARNING 1\n",
    "The batch size of the execution have been set individually for each model so they use the maximum amount of memory of the available 12288MiB in the GPU we used for training. If you get a `CUDA out of memory` error, reduce the `batch_size` in the settings of the executions `dataloader -> parameters -> batch_size`. "
   ]
  },
  {
   "cell_type": "markdown",
   "id": "545ef447-d4eb-4f63-9b06-b1a3c19dee0f",
   "metadata": {},
   "source": [
    "## WARNING 2\n",
    "If you change the batch size, since we use `OneCycleLR` as learning scheduler it needs to have the `batch_size` changed too, in the settigns of the execution `learning_rate_schedulers -> OneCycleLR -> parameters -> total_steps`, where `total_steps = number_epochs * ceil(floor(data_samples * percentage_train) / batch_size)`."
   ]
  },
  {
   "cell_type": "markdown",
   "id": "af78af60-cc67-49a3-ac7d-3ccfc3e60a10",
   "metadata": {},
   "source": [
    "## Experiment 1"
   ]
  },
  {
   "cell_type": "markdown",
   "id": "55487b72-4302-4e31-b917-ea456a09ea81",
   "metadata": {},
   "source": [
    "In this experiment we will try the GRU + classifier models with spectogram as input, trying to classify all genres at the same time."
   ]
  },
  {
   "cell_type": "markdown",
   "id": "0fe6fbd5-a002-4142-bda1-f631d1e4056c",
   "metadata": {},
   "source": [
    "#### Execution 1"
   ]
  },
  {
   "cell_type": "markdown",
   "id": "68d347fb-b59a-4298-8ed8-61e26ce138e9",
   "metadata": {},
   "source": [
    "Firstly, we will try it with a hidden dimension of 256."
   ]
  },
  {
   "cell_type": "markdown",
   "id": "f704dd34-ba83-4a03-87fa-606bb51944a5",
   "metadata": {
    "jp-MarkdownHeadingCollapsed": true
   },
   "source": [
    "##### Setup and configuration Experiment 1, Execution 1: hidden dimension 256"
   ]
  },
  {
   "cell_type": "code",
   "execution_count": null,
   "id": "3e1fca56-8605-4a61-bd15-1f7cd92860c1",
   "metadata": {},
   "outputs": [],
   "source": [
    "executions.EXECUTIONS = {\n",
    "    'experiment_1_execution_1_hidden_dim_256': {\n",
    "        'data_transformation': {\n",
    "            'name': 'mel_spectrogram_pre_saved',\n",
    "            'parameters': {\n",
    "                'sample_rate': 16000,\n",
    "                'number_frames': 16000 * 29,\n",
    "                'number_fft_points': 1024,\n",
    "                'hop_length': 1024,\n",
    "                'window_length': 512,\n",
    "                'power': 2.0,\n",
    "                'number_mel_channels': 128,\n",
    "                'to_decibels': True,\n",
    "            },\n",
    "        },\n",
    "        'data_split': {\n",
    "            'name': 'random_split',\n",
    "            'parameters': {\n",
    "                'percentage_test': 0.2,\n",
    "            },\n",
    "        },\n",
    "        'dataset':  {\n",
    "            'name': 'dataset_with_spectograms_pre_saved',\n",
    "            'parameters': {},\n",
    "        },\n",
    "        'dataloader': {\n",
    "            'name': 'dataloader',\n",
    "            'parameters': {\n",
    "                'batch_size': 700,\n",
    "                'shuffle': True,\n",
    "                'pin_memory': False,\n",
    "                'prefetch_factor': 5,\n",
    "                'persistent_workers': True,\n",
    "            },\n",
    "        },\n",
    "        'weights': {\n",
    "            'parameters': {\n",
    "                'method': 'inver_log',\n",
    "                'epsilon': 1e-6,\n",
    "            },\n",
    "        },\n",
    "        'model': {\n",
    "            'name': 'baseline',\n",
    "            'parameters': {\n",
    "                'hidden_dim': 256,\n",
    "                'classifier_hidden_layers': [],\n",
    "                'threshold_method': 'roc_closest',\n",
    "                'dropout_rate': 0.5,\n",
    "            },\n",
    "        },\n",
    "        'loss': {\n",
    "            'losses': [\n",
    "                {\n",
    "                    'name': 'BCEWithLogitsLoss',\n",
    "                    'parameters': {\n",
    "                        'reduction': 'mean',\n",
    "                    },\n",
    "                },\n",
    "            ],\n",
    "            'weights': [\n",
    "                1,\n",
    "            ],\n",
    "        },\n",
    "        'optimizer': {\n",
    "            'name': 'Adam',\n",
    "            'parameters': {\n",
    "                'lr': 3e-3,\n",
    "            },\n",
    "        },\n",
    "        'learning_rate_schedulers': [\n",
    "            {\n",
    "                'name': 'OneCycleLR',\n",
    "                'parameters': {\n",
    "                    'max_lr': 3e-3,\n",
    "                    'total_steps': executions.NUMBER_EPOCHS * environment.math.ceil(environment.math.floor(102221 * 0.8) / (700)),\n",
    "                    # total_steps = number_epochs * ceil(floor(data_samples * percentage_train) / batch_size)\n",
    "                    'pct_start': 0.3,\n",
    "                    'anneal_strategy': 'cos',\n",
    "                    'div_factor': 25.0,\n",
    "                    'final_div_factor': 1e4,\n",
    "                },\n",
    "                'monitor': None,\n",
    "                'frequency': 'batch',\n",
    "            },\n",
    "        ],\n",
    "        'metrics_class': {\n",
    "            'metrics_classes': [\n",
    "                {\n",
    "                    'name': 'multi_label_metrics',\n",
    "                    'parameters': {},\n",
    "                },\n",
    "            ],\n",
    "            'weights': [\n",
    "                1,\n",
    "            ],\n",
    "        },\n",
    "        'weight_init_type': '',\n",
    "        'number_epochs': executions.NUMBER_EPOCHS,\n",
    "        'bench_mark': False,\n",
    "        'max_grad_norm': float('inf'),\n",
    "        'metrics': [\n",
    "            'false_negative',\n",
    "            'false_positive',\n",
    "            'true_negative',\n",
    "            'true_positive',\n",
    "            'accuracy',\n",
    "        ],\n",
    "        'objective': (\n",
    "            'accuracy',\n",
    "            'maximize',\n",
    "            'validation',\n",
    "        ),\n",
    "    }\n",
    "}"
   ]
  },
  {
   "cell_type": "markdown",
   "id": "070c38bf-a457-4c22-82d8-e58507bd0355",
   "metadata": {},
   "source": [
    "##### Execute Experiment 1, Execution 1: hidden dimension 256¶"
   ]
  },
  {
   "cell_type": "code",
   "execution_count": null,
   "id": "3701cea6-0b2d-40ab-aec5-cc4b73db4eb8",
   "metadata": {
    "scrolled": true
   },
   "outputs": [],
   "source": [
    "main.main()"
   ]
  },
  {
   "cell_type": "markdown",
   "id": "376d1d0c-cb44-4252-a562-64c7701442f8",
   "metadata": {},
   "source": [
    "#### Execution 2"
   ]
  },
  {
   "cell_type": "markdown",
   "id": "b0db137b-894c-4968-a5ed-9c5fb361a1b6",
   "metadata": {},
   "source": [
    "Secondly, we will try it with a hidden dimension of 512."
   ]
  },
  {
   "cell_type": "markdown",
   "id": "d0e5262d-dfc5-4cf4-a144-1ebb51bff097",
   "metadata": {
    "jp-MarkdownHeadingCollapsed": true
   },
   "source": [
    "##### Setup and configuration Experiment 1, Execution 2: hidden dimension 512"
   ]
  },
  {
   "cell_type": "code",
   "execution_count": null,
   "id": "7d46ff85-ea7e-4599-a8ae-a6872ef65cf5",
   "metadata": {},
   "outputs": [],
   "source": [
    "executions.EXECUTIONS = {\n",
    "    'experiment_1_execution_2_hidden_dim_512': {\n",
    "        'data_transformation': {\n",
    "            'name': 'mel_spectrogram_pre_saved',\n",
    "            'parameters': {\n",
    "                'sample_rate': 16000,\n",
    "                'number_frames': 16000 * 29,\n",
    "                'number_fft_points': 1024,\n",
    "                'hop_length': 1024,\n",
    "                'window_length': 512,\n",
    "                'power': 2.0,\n",
    "                'number_mel_channels': 128,\n",
    "                'to_decibels': True,\n",
    "            },\n",
    "        },\n",
    "        'data_split': {\n",
    "            'name': 'random_split',\n",
    "            'parameters': {\n",
    "                'percentage_test': 0.2,\n",
    "            },\n",
    "        },\n",
    "        'dataset':  {\n",
    "            'name': 'dataset_with_spectograms_pre_saved',\n",
    "            'parameters': {},\n",
    "        },\n",
    "        'dataloader': {\n",
    "            'name': 'dataloader',\n",
    "            'parameters': {\n",
    "                'batch_size': 512,\n",
    "                'shuffle': True,\n",
    "                'pin_memory': False,\n",
    "                'prefetch_factor': 5,\n",
    "                'persistent_workers': True,\n",
    "            },\n",
    "        },\n",
    "        'weights': {\n",
    "            'parameters': {\n",
    "                'method': 'inver_log',\n",
    "                'epsilon': 1e-6,\n",
    "            },\n",
    "        },\n",
    "        'model': {\n",
    "            'name': 'baseline',\n",
    "            'parameters': {\n",
    "                'hidden_dim': 512,\n",
    "                'classifier_hidden_layers': [],\n",
    "                'threshold_method': 'roc_closest',\n",
    "                'dropout_rate': 0.5,\n",
    "            },\n",
    "        },\n",
    "        'loss': {\n",
    "            'losses': [\n",
    "                {\n",
    "                    'name': 'BCEWithLogitsLoss',\n",
    "                    'parameters': {\n",
    "                        'reduction': 'mean',\n",
    "                    },\n",
    "                },\n",
    "            ],\n",
    "            'weights': [\n",
    "                1,\n",
    "            ],\n",
    "        },\n",
    "        'optimizer': {\n",
    "            'name': 'Adam',\n",
    "            'parameters': {\n",
    "                'lr': 3e-3,\n",
    "            },\n",
    "        },\n",
    "        'learning_rate_schedulers': [\n",
    "            {\n",
    "                'name': 'OneCycleLR',\n",
    "                'parameters': {\n",
    "                    'max_lr': 3e-3,\n",
    "                    'total_steps': executions.NUMBER_EPOCHS * environment.math.ceil(environment.math.floor(102221 * 0.8) / (512)),\n",
    "                    # total_steps = number_epochs * ceil(floor(data_samples * percentage_train) / batch_size)\n",
    "                    'pct_start': 0.3,\n",
    "                    'anneal_strategy': 'cos',\n",
    "                    'div_factor': 25.0,\n",
    "                    'final_div_factor': 1e4,\n",
    "                },\n",
    "                'monitor': None,\n",
    "                'frequency': 'batch',\n",
    "            },\n",
    "        ],\n",
    "        'metrics_class': {\n",
    "            'metrics_classes': [\n",
    "                {\n",
    "                    'name': 'multi_label_metrics',\n",
    "                    'parameters': {},\n",
    "                },\n",
    "            ],\n",
    "            'weights': [\n",
    "                1,\n",
    "            ],\n",
    "        },\n",
    "        'weight_init_type': '',\n",
    "        'number_epochs': executions.NUMBER_EPOCHS,\n",
    "        'bench_mark': False,\n",
    "        'max_grad_norm': float('inf'),\n",
    "        'metrics': [\n",
    "            'false_negative',\n",
    "            'false_positive',\n",
    "            'true_negative',\n",
    "            'true_positive',\n",
    "            'accuracy',\n",
    "        ],\n",
    "        'objective': (\n",
    "            'accuracy',\n",
    "            'maximize',\n",
    "            'validation',\n",
    "        ),\n",
    "    }\n",
    "}"
   ]
  },
  {
   "cell_type": "markdown",
   "id": "8700f84e-755e-46d3-be05-c04078cb6589",
   "metadata": {},
   "source": [
    "##### Execute Experiment 1, Execution 2: hidden dimension 512¶"
   ]
  },
  {
   "cell_type": "code",
   "execution_count": null,
   "id": "8f2c3c2e-afcb-48fc-9894-808c063af880",
   "metadata": {
    "scrolled": true
   },
   "outputs": [],
   "source": [
    "main.main()"
   ]
  },
  {
   "cell_type": "markdown",
   "id": "7a81f3f5-d086-4309-aaaa-2a71dda02e22",
   "metadata": {},
   "source": [
    "## Experiment 2"
   ]
  },
  {
   "cell_type": "markdown",
   "id": "8d46e575-9e9f-463d-8f7a-d8ccdcb848e6",
   "metadata": {},
   "source": [
    "In this experiment we will try a custom CNN + classifier model with spectogram as input with hidden dim 128, trying to classify all genres at the same time."
   ]
  },
  {
   "cell_type": "markdown",
   "id": "f4c61a5f-6622-48fd-8216-0a4c8fafc951",
   "metadata": {},
   "source": [
    "#### Execution"
   ]
  },
  {
   "cell_type": "markdown",
   "id": "e35af818-ac7d-4c32-80d5-db91670c2f4b",
   "metadata": {
    "jp-MarkdownHeadingCollapsed": true
   },
   "source": [
    "##### Setup and configuration Experiment 2"
   ]
  },
  {
   "cell_type": "code",
   "execution_count": null,
   "id": "7f71871f-2227-4ac5-81de-34966293b6cd",
   "metadata": {
    "scrolled": true
   },
   "outputs": [],
   "source": [
    "executions.EXECUTIONS = {\n",
    "    'experiment_2_execution': {\n",
    "        'data_transformation': {\n",
    "            'name': 'mel_spectrogram_pre_saved',\n",
    "            'parameters': {\n",
    "                'sample_rate': 16000,\n",
    "                'number_frames': 16000 * 29,\n",
    "                'number_fft_points': 1024,\n",
    "                'hop_length': 1024,\n",
    "                'window_length': 512,\n",
    "                'power': 2.0,\n",
    "                'number_mel_channels': 128,\n",
    "                'to_decibels': True,\n",
    "            },\n",
    "        },\n",
    "        'data_split': {\n",
    "            'name': 'random_split',\n",
    "            'parameters': {\n",
    "                'percentage_test': 0.2,\n",
    "            },\n",
    "        },\n",
    "        'dataset':  {\n",
    "            'name': 'dataset_with_spectograms_pre_saved',\n",
    "            'parameters': {},\n",
    "        },\n",
    "        'dataloader': {\n",
    "            'name': 'dataloader',\n",
    "            'parameters': {\n",
    "                'batch_size': 256,\n",
    "                'shuffle': True,\n",
    "                'pin_memory': False,\n",
    "                'prefetch_factor': 5,\n",
    "                'persistent_workers': True,\n",
    "            },\n",
    "        },\n",
    "        'weights': {\n",
    "            'parameters': {\n",
    "                'method': 'inver_log',\n",
    "                'epsilon': 1e-6,\n",
    "            },\n",
    "        },\n",
    "        'model': {\n",
    "            'name': 'full_cnn',\n",
    "            'parameters': {\n",
    "                'hidden_dim': 128,\n",
    "                'classifier_hidden_layers': [],\n",
    "                'threshold_method': 'roc_closest',\n",
    "                'dropout_rate': 0.7,\n",
    "            },\n",
    "        },\n",
    "        'loss': {\n",
    "            'losses': [\n",
    "                {\n",
    "                    'name': 'BCEWithLogitsLoss',\n",
    "                    'parameters': {\n",
    "                        'reduction': 'mean',\n",
    "                    },\n",
    "                },\n",
    "            ],\n",
    "            'weights': [\n",
    "                1,\n",
    "            ],\n",
    "        },\n",
    "        'optimizer': {\n",
    "            'name': 'Adam',\n",
    "            'parameters': {\n",
    "                'lr': 3e-3,\n",
    "            },\n",
    "        },\n",
    "        'learning_rate_schedulers': [\n",
    "            {\n",
    "                'name': 'OneCycleLR',\n",
    "                'parameters': {\n",
    "                    'max_lr': 3e-3,\n",
    "                    'total_steps': executions.NUMBER_EPOCHS * environment.math.ceil(environment.math.floor(102221 * 0.8) / (256)), \n",
    "                    # total_steps = number_epochs * ceil(floor(data_samples * percentage_train) / batch_size)\n",
    "                    'pct_start': 0.3,\n",
    "                    'anneal_strategy': 'cos',\n",
    "                    'div_factor': 25.0,\n",
    "                    'final_div_factor': 1e4,\n",
    "                },\n",
    "                'monitor': None,\n",
    "                'frequency': 'batch',\n",
    "            },\n",
    "        ],\n",
    "        'metrics_class': {\n",
    "            'metrics_classes': [\n",
    "                {\n",
    "                    'name': 'multi_label_metrics',\n",
    "                    'parameters': {},\n",
    "                },\n",
    "            ],\n",
    "            'weights': [\n",
    "                1,\n",
    "            ],\n",
    "        },\n",
    "        'weight_init_type': '',\n",
    "        'number_epochs': executions.NUMBER_EPOCHS,\n",
    "        'bench_mark': False,\n",
    "        'max_grad_norm': float('inf'),\n",
    "        'metrics': [\n",
    "            'false_negative',\n",
    "            'false_positive',\n",
    "            'true_negative',\n",
    "            'true_positive',\n",
    "            'accuracy',\n",
    "        ],\n",
    "        'objective': (\n",
    "            'accuracy',\n",
    "            'maximize',\n",
    "            'validation',\n",
    "        ),\n",
    "    }\n",
    "}"
   ]
  },
  {
   "cell_type": "markdown",
   "id": "dc6d7ae8-37c8-4f5f-9bb1-814548478277",
   "metadata": {},
   "source": [
    "##### Execute Experiment 2¶"
   ]
  },
  {
   "cell_type": "code",
   "execution_count": null,
   "id": "4fdc9129-ddc4-4c9a-97c7-a7d0b89ddf55",
   "metadata": {
    "scrolled": true
   },
   "outputs": [],
   "source": [
    "main.main()"
   ]
  },
  {
   "cell_type": "markdown",
   "id": "aaa5dfec-586f-44fb-8d8f-89b3da71ff5b",
   "metadata": {},
   "source": [
    "## Experiment 3"
   ]
  },
  {
   "cell_type": "markdown",
   "id": "b9ea5580-407c-48fd-abb0-e861ad8f2745",
   "metadata": {},
   "source": [
    "In this experiment we will try Fully Frozen ResNet + classifier models with spectogram as input, trying to classify all genres at the same time."
   ]
  },
  {
   "cell_type": "markdown",
   "id": "42449d99-75c7-4f2e-aa08-631fe224aa15",
   "metadata": {},
   "source": [
    "#### Execution 1"
   ]
  },
  {
   "cell_type": "markdown",
   "id": "60a84181-e7fd-47b0-9f80-2f3bcb82c888",
   "metadata": {},
   "source": [
    "Firstly, we try with the ResNet18"
   ]
  },
  {
   "cell_type": "markdown",
   "id": "272a01eb-20a6-44a6-939b-9eeb9f4d4e13",
   "metadata": {
    "jp-MarkdownHeadingCollapsed": true
   },
   "source": [
    "##### Setup and configuration Experiment 3, Execution 1: ResNet18"
   ]
  },
  {
   "cell_type": "code",
   "execution_count": null,
   "id": "59fdc9ad-25c9-4567-8170-d225ead2d50d",
   "metadata": {
    "scrolled": true
   },
   "outputs": [],
   "source": [
    "executions.EXECUTIONS = {\n",
    "    'experiment_3_execution_1_res_net_18': {\n",
    "        'data_transformation': {\n",
    "            'name': 'mel_spectrogram_pre_saved',\n",
    "            'parameters': {\n",
    "                'sample_rate': 16000,\n",
    "                'number_frames': 16000 * 29,\n",
    "                'number_fft_points': 1024,\n",
    "                'hop_length': 1024,\n",
    "                'window_length': 512,\n",
    "                'power': 2.0,\n",
    "                'number_mel_channels': 128,\n",
    "                'to_decibels': True,\n",
    "            },\n",
    "        },\n",
    "        'data_split': {\n",
    "            'name': 'random_split',\n",
    "            'parameters': {\n",
    "                'percentage_test': 0.2,\n",
    "            },\n",
    "        },\n",
    "        'dataset':  {\n",
    "            'name': 'dataset_with_spectograms_pre_saved',\n",
    "            'parameters': {},\n",
    "        },\n",
    "        'dataloader': {\n",
    "            'name': 'dataloader',\n",
    "            'parameters': {\n",
    "                'batch_size': 700,\n",
    "                'shuffle': True,\n",
    "                'pin_memory': False,\n",
    "                'prefetch_factor': 5,\n",
    "                'persistent_workers': True,\n",
    "            },\n",
    "        },\n",
    "        'weights': {\n",
    "            'parameters': {\n",
    "                'method': 'inver_log',\n",
    "                'epsilon': 1e-6,\n",
    "            },\n",
    "        },\n",
    "        'model': {\n",
    "            'name': 'res_net_18',\n",
    "            'parameters': {\n",
    "                'classifier_hidden_layers': [],\n",
    "                'threshold_method': 'roc_closest',\n",
    "                'dropout_rate': 0.7,\n",
    "            },\n",
    "        },\n",
    "        'loss': {\n",
    "            'losses': [\n",
    "                {\n",
    "                    'name': 'BCEWithLogitsLoss',\n",
    "                    'parameters': {\n",
    "                        'reduction': 'mean',\n",
    "                    },\n",
    "                },\n",
    "            ],\n",
    "            'weights': [\n",
    "                1,\n",
    "            ],\n",
    "        },\n",
    "        'optimizer': {\n",
    "            'name': 'Adam',\n",
    "            'parameters': {\n",
    "                'lr': 3e-3,\n",
    "            },\n",
    "        },\n",
    "        'learning_rate_schedulers': [\n",
    "            {\n",
    "                'name': 'OneCycleLR',\n",
    "                'parameters': {\n",
    "                    'max_lr': 3e-3,\n",
    "                    'total_steps': executions.NUMBER_EPOCHS * environment.math.ceil(environment.math.floor(102221 * 0.8) / (700)),\n",
    "                    # total_steps = number_epochs * ceil(floor(data_samples * percentage_train) / batch_size)\n",
    "                    'pct_start': 0.3,\n",
    "                    'anneal_strategy': 'cos',\n",
    "                    'div_factor': 25.0,\n",
    "                    'final_div_factor': 1e4,\n",
    "                },\n",
    "                'monitor': None,\n",
    "                'frequency': 'batch',\n",
    "            },\n",
    "        ],\n",
    "        'metrics_class': {\n",
    "            'metrics_classes': [\n",
    "                {\n",
    "                    'name': 'multi_label_metrics',\n",
    "                    'parameters': {},\n",
    "                },\n",
    "            ],\n",
    "            'weights': [\n",
    "                1,\n",
    "            ],\n",
    "        },\n",
    "        'weight_init_type': '',\n",
    "        'number_epochs': executions.NUMBER_EPOCHS,\n",
    "        'bench_mark': False,\n",
    "        'max_grad_norm': float('inf'),\n",
    "        'metrics': [\n",
    "            'false_negative',\n",
    "            'false_positive',\n",
    "            'true_negative',\n",
    "            'true_positive',\n",
    "            'accuracy',\n",
    "        ],\n",
    "        'objective': (\n",
    "            'accuracy',\n",
    "            'maximize',\n",
    "            'validation',\n",
    "        ),\n",
    "    }\n",
    "}"
   ]
  },
  {
   "cell_type": "markdown",
   "id": "f299ea4d-6257-4d5d-9944-72f93d810e86",
   "metadata": {},
   "source": [
    "##### Execute Experiment 3, Execution 1: ResNet18¶"
   ]
  },
  {
   "cell_type": "code",
   "execution_count": null,
   "id": "16d5cf32-4e00-40ce-bf3e-2f25f9c8ae0e",
   "metadata": {
    "scrolled": true
   },
   "outputs": [],
   "source": [
    "main.main()"
   ]
  },
  {
   "cell_type": "markdown",
   "id": "1f53b57c-93d5-4a03-bf88-4cab26c72439",
   "metadata": {},
   "source": [
    "#### Execution 2"
   ]
  },
  {
   "cell_type": "markdown",
   "id": "e77d45a9-8d3c-42d6-9d3b-0191ed2dc07e",
   "metadata": {},
   "source": [
    "Secondly, we try with the ResNet50"
   ]
  },
  {
   "cell_type": "markdown",
   "id": "d6f0b0ba-48ae-4aee-8d52-33bb9cff271e",
   "metadata": {
    "jp-MarkdownHeadingCollapsed": true
   },
   "source": [
    "##### Setup and configuration Experiment 3, Execution 2: ResNet50"
   ]
  },
  {
   "cell_type": "code",
   "execution_count": null,
   "id": "6e47490b-d629-49b3-9b2c-89a4993be29c",
   "metadata": {
    "scrolled": true
   },
   "outputs": [],
   "source": [
    "executions.EXECUTIONS = {\n",
    "    'experiment_3_executions_2_res_net_50': {\n",
    "        'data_transformation': {\n",
    "            'name': 'mel_spectrogram_pre_saved',\n",
    "            'parameters': {\n",
    "                'sample_rate': 16000,\n",
    "                'number_frames': 16000 * 29,\n",
    "                'number_fft_points': 1024,\n",
    "                'hop_length': 1024,\n",
    "                'window_length': 512,\n",
    "                'power': 2.0,\n",
    "                'number_mel_channels': 128,\n",
    "                'to_decibels': True,\n",
    "            },\n",
    "        },\n",
    "        'data_split': {\n",
    "            'name': 'random_split',\n",
    "            'parameters': {\n",
    "                'percentage_test': 0.2,\n",
    "            },\n",
    "        },\n",
    "        'dataset':  {\n",
    "            'name': 'dataset_with_spectograms_pre_saved',\n",
    "            'parameters': {},\n",
    "        },\n",
    "        'dataloader': {\n",
    "            'name': 'dataloader',\n",
    "            'parameters': {\n",
    "                'batch_size': 512,\n",
    "                'shuffle': True,\n",
    "                'pin_memory': False,\n",
    "                'prefetch_factor': 5,\n",
    "                'persistent_workers': True,\n",
    "            },\n",
    "        },\n",
    "        'weights': {\n",
    "            'parameters': {\n",
    "                'method': 'inver_log',\n",
    "                'epsilon': 1e-6,\n",
    "            },\n",
    "        },\n",
    "        'model': {\n",
    "            'name': 'res_net_50',\n",
    "            'parameters': {\n",
    "                'classifier_hidden_layers': [],\n",
    "                'threshold_method': 'roc_closest',\n",
    "                'dropout_rate': 0.7,\n",
    "            },\n",
    "        },\n",
    "        'loss': {\n",
    "            'losses': [\n",
    "                {\n",
    "                    'name': 'BCEWithLogitsLoss',\n",
    "                    'parameters': {\n",
    "                        'reduction': 'mean',\n",
    "                    },\n",
    "                },\n",
    "            ],\n",
    "            'weights': [\n",
    "                1,\n",
    "            ],\n",
    "        },\n",
    "        'optimizer': {\n",
    "            'name': 'Adam',\n",
    "            'parameters': {\n",
    "                'lr': 3e-3,\n",
    "            },\n",
    "        },\n",
    "        'learning_rate_schedulers': [\n",
    "            {\n",
    "                'name': 'OneCycleLR',\n",
    "                'parameters': {\n",
    "                    'max_lr': 3e-3,\n",
    "                    'total_steps': executions.NUMBER_EPOCHS * environment.math.ceil(environment.math.floor(102221 * 0.8) / (512)),\n",
    "                    # total_steps = number_epochs * ceil(floor(data_samples * percentage_train) / batch_size)\n",
    "                    'pct_start': 0.3,\n",
    "                    'anneal_strategy': 'cos',\n",
    "                    'div_factor': 25.0,\n",
    "                    'final_div_factor': 1e4,\n",
    "                },\n",
    "                'monitor': None,\n",
    "                'frequency': 'batch',\n",
    "            },\n",
    "        ],\n",
    "        'metrics_class': {\n",
    "            'metrics_classes': [\n",
    "                {\n",
    "                    'name': 'multi_label_metrics',\n",
    "                    'parameters': {},\n",
    "                },\n",
    "            ],\n",
    "            'weights': [\n",
    "                1,\n",
    "            ],\n",
    "        },\n",
    "        'weight_init_type': '',\n",
    "        'number_epochs': executions.NUMBER_EPOCHS,\n",
    "        'bench_mark': False,\n",
    "        'max_grad_norm': float('inf'),\n",
    "        'metrics': [\n",
    "            'false_negative',\n",
    "            'false_positive',\n",
    "            'true_negative',\n",
    "            'true_positive',\n",
    "            'accuracy',\n",
    "        ],\n",
    "        'objective': (\n",
    "            'accuracy',\n",
    "            'maximize',\n",
    "            'validation',\n",
    "        ),\n",
    "    }\n",
    "}"
   ]
  },
  {
   "cell_type": "markdown",
   "id": "3e749703-6447-43f6-8790-3b4993b17f20",
   "metadata": {},
   "source": [
    "##### Execute Experiment 3, Execution 2: ResNet50¶"
   ]
  },
  {
   "cell_type": "code",
   "execution_count": null,
   "id": "f6f63ae3-12b2-4402-a659-051b21417794",
   "metadata": {
    "scrolled": true
   },
   "outputs": [],
   "source": [
    "main.main()"
   ]
  },
  {
   "cell_type": "markdown",
   "id": "350e02ef-d666-492b-9737-b6c30e160add",
   "metadata": {},
   "source": [
    "#### Execution 3"
   ]
  },
  {
   "cell_type": "markdown",
   "id": "43415c66-c6d7-4960-91ec-49555ea29cdd",
   "metadata": {},
   "source": [
    "Thirdly, we try with the ResNet101"
   ]
  },
  {
   "cell_type": "markdown",
   "id": "367e9863-4ef8-468e-92e2-fd622cd41afc",
   "metadata": {
    "jp-MarkdownHeadingCollapsed": true
   },
   "source": [
    "##### Setup and configuration Experiment 3, Execution 3: ResNet101"
   ]
  },
  {
   "cell_type": "code",
   "execution_count": null,
   "id": "25ab9d6c-44c6-43de-9ea3-54589b59ebaa",
   "metadata": {
    "scrolled": true
   },
   "outputs": [],
   "source": [
    "executions.EXECUTIONS = {\n",
    "    'experiment_3_executions_3_res_net_101': {\n",
    "        'data_transformation': {\n",
    "            'name': 'mel_spectrogram_pre_saved',\n",
    "            'parameters': {\n",
    "                'sample_rate': 16000,\n",
    "                'number_frames': 16000 * 29,\n",
    "                'number_fft_points': 1024,\n",
    "                'hop_length': 1024,\n",
    "                'window_length': 512,\n",
    "                'power': 2.0,\n",
    "                'number_mel_channels': 128,\n",
    "                'to_decibels': True,\n",
    "            },\n",
    "        },\n",
    "        'data_split': {\n",
    "            'name': 'random_split',\n",
    "            'parameters': {\n",
    "                'percentage_test': 0.2,\n",
    "            },\n",
    "        },\n",
    "        'dataset':  {\n",
    "            'name': 'dataset_with_spectograms_pre_saved',\n",
    "            'parameters': {},\n",
    "        },\n",
    "        'dataloader': {\n",
    "            'name': 'dataloader',\n",
    "            'parameters': {\n",
    "                'batch_size': 512,\n",
    "                'shuffle': True,\n",
    "                'pin_memory': False,\n",
    "                'prefetch_factor': 5,\n",
    "                'persistent_workers': True,\n",
    "            },\n",
    "        },\n",
    "        'weights': {\n",
    "            'parameters': {\n",
    "                'method': 'inver_log',\n",
    "                'epsilon': 1e-6,\n",
    "            },\n",
    "        },\n",
    "        'model': {\n",
    "            'name': 'res_net_101',\n",
    "            'parameters': {\n",
    "                'classifier_hidden_layers': [],\n",
    "                'threshold_method': 'roc_closest',\n",
    "                'dropout_rate': 0.7,\n",
    "            },\n",
    "        },\n",
    "        'loss': {\n",
    "            'losses': [\n",
    "                {\n",
    "                    'name': 'BCEWithLogitsLoss',\n",
    "                    'parameters': {\n",
    "                        'reduction': 'mean',\n",
    "                    },\n",
    "                },\n",
    "            ],\n",
    "            'weights': [\n",
    "                1,\n",
    "            ],\n",
    "        },\n",
    "        'optimizer': {\n",
    "            'name': 'Adam',\n",
    "            'parameters': {\n",
    "                'lr': 3e-3,\n",
    "            },\n",
    "        },\n",
    "        'learning_rate_schedulers': [\n",
    "            {\n",
    "                'name': 'OneCycleLR',\n",
    "                'parameters': {\n",
    "                    'max_lr': 3e-3,\n",
    "                    'total_steps': executions.NUMBER_EPOCHS * environment.math.ceil(environment.math.floor(102221 * 0.8) / (512)),\n",
    "                    # total_steps = number_epochs * ceil(floor(data_samples * percentage_train) / batch_size)\n",
    "                    'pct_start': 0.3,\n",
    "                    'anneal_strategy': 'cos',\n",
    "                    'div_factor': 25.0,\n",
    "                    'final_div_factor': 1e4,\n",
    "                },\n",
    "                'monitor': None,\n",
    "                'frequency': 'batch',\n",
    "            },\n",
    "        ],\n",
    "        'metrics_class': {\n",
    "            'metrics_classes': [\n",
    "                {\n",
    "                    'name': 'multi_label_metrics',\n",
    "                    'parameters': {},\n",
    "                },\n",
    "            ],\n",
    "            'weights': [\n",
    "                1,\n",
    "            ],\n",
    "        },\n",
    "        'weight_init_type': '',\n",
    "        'number_epochs': executions.NUMBER_EPOCHS,\n",
    "        'bench_mark': False,\n",
    "        'max_grad_norm': float('inf'),\n",
    "        'metrics': [\n",
    "            'false_negative',\n",
    "            'false_positive',\n",
    "            'true_negative',\n",
    "            'true_positive',\n",
    "            'accuracy',\n",
    "        ],\n",
    "        'objective': (\n",
    "            'accuracy',\n",
    "            'maximize',\n",
    "            'validation',\n",
    "        ),\n",
    "    }\n",
    "}"
   ]
  },
  {
   "cell_type": "markdown",
   "id": "fddc63bb-2d4f-4d59-855f-6ec9cca2a7cb",
   "metadata": {},
   "source": [
    "##### Execute Experiment 3, Execution 3: ResNet101¶"
   ]
  },
  {
   "cell_type": "code",
   "execution_count": null,
   "id": "c4116e59-945d-404e-824a-c6dd5dec3114",
   "metadata": {
    "scrolled": true
   },
   "outputs": [],
   "source": [
    "main.main()"
   ]
  },
  {
   "cell_type": "markdown",
   "id": "2209017f-e11e-48c9-a968-8550d88098ed",
   "metadata": {},
   "source": [
    "## Experiment 4"
   ]
  },
  {
   "cell_type": "markdown",
   "id": "8a008817-740d-41d8-bd24-e12961c6b01a",
   "metadata": {},
   "source": [
    "In this experiment we will try Fine Tunning ResNet18 + classifier models with spectogram as input, trying to classify all genres at the same time."
   ]
  },
  {
   "cell_type": "markdown",
   "id": "b4c22037-7b02-446f-917c-3cda01cd1ac4",
   "metadata": {},
   "source": [
    "#### Execution 1"
   ]
  },
  {
   "cell_type": "markdown",
   "id": "03ba48ed-f546-4931-af4f-56936b4c6fab",
   "metadata": {},
   "source": [
    "Firstly, we try Fine Tunning the last layer only of the ResNet18 (last layer as the designers of ResNet18 defined it)"
   ]
  },
  {
   "cell_type": "markdown",
   "id": "549a64bf-6475-4b8d-9038-1470357025a4",
   "metadata": {
    "jp-MarkdownHeadingCollapsed": true
   },
   "source": [
    "##### Setup and configuration Experiment 4, Execution 1: ResNet 18 Fine Tune Layer 4"
   ]
  },
  {
   "cell_type": "code",
   "execution_count": null,
   "id": "b907e1a2-33ab-492d-9143-b5cdac757e47",
   "metadata": {},
   "outputs": [],
   "source": [
    "executions.EXECUTIONS = {\n",
    "    'experiment_4_execution_1_layer_4': {\n",
    "        'data_transformation': {\n",
    "            'name': 'mel_spectrogram_pre_saved',\n",
    "            'parameters': {\n",
    "                'sample_rate': 16000,\n",
    "                'number_frames': 16000 * 29,\n",
    "                'number_fft_points': 1024,\n",
    "                'hop_length': 1024,\n",
    "                'window_length': 512,\n",
    "                'power': 2.0,\n",
    "                'number_mel_channels': 128,\n",
    "                'to_decibels': True,\n",
    "            },\n",
    "        },\n",
    "        'data_split': {\n",
    "            'name': 'random_split',\n",
    "            'parameters': {\n",
    "                'percentage_test': 0.2,\n",
    "            },\n",
    "        },\n",
    "        'dataset':  {\n",
    "            'name': 'dataset_with_spectograms_pre_saved',\n",
    "            'parameters': {},\n",
    "        },\n",
    "        'dataloader': {\n",
    "            'name': 'dataloader',\n",
    "            'parameters': {\n",
    "                'batch_size': 700,\n",
    "                'shuffle': True,\n",
    "                'pin_memory': False,\n",
    "                'prefetch_factor': 5,\n",
    "                'persistent_workers': True,\n",
    "            },\n",
    "        },\n",
    "        'weights': {\n",
    "            'parameters': {\n",
    "                'method': 'inver_log',\n",
    "                'epsilon': 1e-6,\n",
    "            },\n",
    "        },\n",
    "        'model': {\n",
    "            'name': 'res_net_18_fine_tune_layer_4',\n",
    "            'parameters': {\n",
    "                'classifier_hidden_layers': [],\n",
    "                'threshold_method': 'roc_closest',\n",
    "                'dropout_rate': 0.7,\n",
    "            },\n",
    "        },\n",
    "        'loss': {\n",
    "            'losses': [\n",
    "                {\n",
    "                    'name': 'BCEWithLogitsLoss',\n",
    "                    'parameters': {\n",
    "                        'reduction': 'mean',\n",
    "                    },\n",
    "                },\n",
    "            ],\n",
    "            'weights': [\n",
    "                1,\n",
    "            ],\n",
    "        },\n",
    "        'optimizer': {\n",
    "            'name': 'Adam',\n",
    "            'parameters': {\n",
    "                'lr': 3e-3,\n",
    "            },\n",
    "        },\n",
    "        'learning_rate_schedulers': [\n",
    "            {\n",
    "                'name': 'OneCycleLR',\n",
    "                'parameters': {\n",
    "                    'max_lr': 3e-3,\n",
    "                    'total_steps': executions.NUMBER_EPOCHS * environment.math.ceil(environment.math.floor(102221 * 0.8) / (700)),\n",
    "                    # total_steps = number_epochs * ceil(floor(data_samples * percentage_train) / batch_size)\n",
    "                    'pct_start': 0.3,\n",
    "                    'anneal_strategy': 'cos',\n",
    "                    'div_factor': 25.0,\n",
    "                    'final_div_factor': 1e4,\n",
    "                },\n",
    "                'monitor': None,\n",
    "                'frequency': 'batch',\n",
    "            },\n",
    "        ],\n",
    "        'metrics_class': {\n",
    "            'metrics_classes': [\n",
    "                {\n",
    "                    'name': 'multi_label_metrics',\n",
    "                    'parameters': {},\n",
    "                },\n",
    "            ],\n",
    "            'weights': [\n",
    "                1,\n",
    "            ],\n",
    "        },\n",
    "        'weight_init_type': '',\n",
    "        'number_epochs': executions.NUMBER_EPOCHS,\n",
    "        'bench_mark': False,\n",
    "        'max_grad_norm': float('inf'),\n",
    "        'metrics': [\n",
    "            'false_negative',\n",
    "            'false_positive',\n",
    "            'true_negative',\n",
    "            'true_positive',\n",
    "            'accuracy',\n",
    "        ],\n",
    "        'objective': (\n",
    "            'accuracy',\n",
    "            'maximize',\n",
    "            'validation',\n",
    "        ),\n",
    "    }\n",
    "}"
   ]
  },
  {
   "cell_type": "markdown",
   "id": "c11384de-7f4b-41e4-ac47-ffe1b876be8d",
   "metadata": {},
   "source": [
    "##### Execute Experiment 4, Execution 1: ResNet 18 Fine Tune Layer 4¶"
   ]
  },
  {
   "cell_type": "code",
   "execution_count": null,
   "id": "464bcf8c-fe2c-46be-99d5-dac26f4cd1e3",
   "metadata": {
    "scrolled": true
   },
   "outputs": [],
   "source": [
    "main.main()"
   ]
  },
  {
   "cell_type": "markdown",
   "id": "14bb7a17-db8b-4ba8-ae47-ef51542629a6",
   "metadata": {},
   "source": [
    "#### Execution 2"
   ]
  },
  {
   "cell_type": "markdown",
   "id": "a173c102-ba20-4e7b-8a4f-29ca1d6da311",
   "metadata": {},
   "source": [
    "Secondly, we try Fine Tunning the last block only of the last layer of the ResNet18 (last layer and last block as the designers of ResNet18 defined it)"
   ]
  },
  {
   "cell_type": "markdown",
   "id": "c6c5b5f3-e7f4-4314-b338-dc328c16a2e1",
   "metadata": {
    "jp-MarkdownHeadingCollapsed": true
   },
   "source": [
    "##### Setup and configuration Experiment 4, Execution 2: ResNet 18 Fine Tune Last Block of Layer 4"
   ]
  },
  {
   "cell_type": "code",
   "execution_count": null,
   "id": "7ec5b912-0c03-47c5-8775-93a254580c1f",
   "metadata": {
    "scrolled": true
   },
   "outputs": [],
   "source": [
    "executions.EXECUTIONS = {\n",
    "    'experiment_4_execution_2_layer_4_last_block': {\n",
    "        'data_transformation': {\n",
    "            'name': 'mel_spectrogram_pre_saved',\n",
    "            'parameters': {\n",
    "                'sample_rate': 16000,\n",
    "                'number_frames': 16000 * 29,\n",
    "                'number_fft_points': 1024,\n",
    "                'hop_length': 1024,\n",
    "                'window_length': 512,\n",
    "                'power': 2.0,\n",
    "                'number_mel_channels': 128,\n",
    "                'to_decibels': True,\n",
    "            },\n",
    "        },\n",
    "        'data_split': {\n",
    "            'name': 'random_split',\n",
    "            'parameters': {\n",
    "                'percentage_test': 0.2,\n",
    "            },\n",
    "        },\n",
    "        'dataset':  {\n",
    "            'name': 'dataset_with_spectograms_pre_saved',\n",
    "            'parameters': {},\n",
    "        },\n",
    "        'dataloader': {\n",
    "            'name': 'dataloader',\n",
    "            'parameters': {\n",
    "                'batch_size': 700,\n",
    "                'shuffle': True,\n",
    "                'pin_memory': False,\n",
    "                'prefetch_factor': 5,\n",
    "                'persistent_workers': True,\n",
    "            },\n",
    "        },\n",
    "        'weights': {\n",
    "            'parameters': {\n",
    "                'method': 'inver_log',\n",
    "                'epsilon': 1e-6,\n",
    "            },\n",
    "        },\n",
    "        'model': {\n",
    "            'name': 'res_net_18_fine_tune_layer_4_last_block',\n",
    "            'parameters': {\n",
    "                'classifier_hidden_layers': [],\n",
    "                'threshold_method': 'roc_closest',\n",
    "                'dropout_rate': 0.7,\n",
    "            },\n",
    "        },\n",
    "        'loss': {\n",
    "            'losses': [\n",
    "                {\n",
    "                    'name': 'BCEWithLogitsLoss',\n",
    "                    'parameters': {\n",
    "                        'reduction': 'mean',\n",
    "                    },\n",
    "                },\n",
    "            ],\n",
    "            'weights': [\n",
    "                1,\n",
    "            ],\n",
    "        },\n",
    "        'optimizer': {\n",
    "            'name': 'Adam',\n",
    "            'parameters': {\n",
    "                'lr': 3e-3,\n",
    "            },\n",
    "        },\n",
    "        'learning_rate_schedulers': [\n",
    "            {\n",
    "                'name': 'OneCycleLR',\n",
    "                'parameters': {\n",
    "                    'max_lr': 3e-3,\n",
    "                    'total_steps': executions.NUMBER_EPOCHS * environment.math.ceil(environment.math.floor(102221 * 0.8) / (700)),\n",
    "                    # total_steps = number_epochs * ceil(floor(data_samples * percentage_train) / batch_size)\n",
    "                    'pct_start': 0.3,\n",
    "                    'anneal_strategy': 'cos',\n",
    "                    'div_factor': 25.0,\n",
    "                    'final_div_factor': 1e4,\n",
    "                },\n",
    "                'monitor': None,\n",
    "                'frequency': 'batch',\n",
    "            },\n",
    "        ],\n",
    "        'metrics_class': {\n",
    "            'metrics_classes': [\n",
    "                {\n",
    "                    'name': 'multi_label_metrics',\n",
    "                    'parameters': {},\n",
    "                },\n",
    "            ],\n",
    "            'weights': [\n",
    "                1,\n",
    "            ],\n",
    "        },\n",
    "        'weight_init_type': '',\n",
    "        'number_epochs': executions.NUMBER_EPOCHS,\n",
    "        'bench_mark': False,\n",
    "        'max_grad_norm': float('inf'),\n",
    "        'metrics': [\n",
    "            'false_negative',\n",
    "            'false_positive',\n",
    "            'true_negative',\n",
    "            'true_positive',\n",
    "            'accuracy',\n",
    "        ],\n",
    "        'objective': (\n",
    "            'accuracy',\n",
    "            'maximize',\n",
    "            'validation',\n",
    "        ),\n",
    "    }\n",
    "}"
   ]
  },
  {
   "cell_type": "markdown",
   "id": "317bd03d-f809-4e80-aa21-df36e9ccda44",
   "metadata": {},
   "source": [
    "##### Execute Experiment 4, Execution 2: ResNet 18 Fine Tune Last Block of Layer 4¶"
   ]
  },
  {
   "cell_type": "code",
   "execution_count": null,
   "id": "5f25bcc5-6027-48e6-8fa6-83811a865eed",
   "metadata": {
    "scrolled": true
   },
   "outputs": [],
   "source": [
    "main.main()"
   ]
  },
  {
   "cell_type": "markdown",
   "id": "79e05d36-9c31-4005-a9a8-0074b02f57c3",
   "metadata": {},
   "source": [
    "## Experiment 5"
   ]
  },
  {
   "cell_type": "markdown",
   "id": "c07029fb-93ad-45f4-83bc-fb6a10446e1c",
   "metadata": {},
   "source": [
    "In this experiment we will try Fine Tunning ResNet18 + classifier models with spectogram as input, trying only the genres of top level."
   ]
  },
  {
   "cell_type": "markdown",
   "id": "020f775f-ca51-4311-ae0b-7785af7dc905",
   "metadata": {},
   "source": [
    "#### Execution 1"
   ]
  },
  {
   "cell_type": "markdown",
   "id": "bee666d0-c09b-418f-aa62-065ccca4d166",
   "metadata": {},
   "source": [
    "Firstly, we try Fine Tunning the last layer only of the ResNet18 (last layer as the designers of ResNet18 defined it)"
   ]
  },
  {
   "cell_type": "markdown",
   "id": "87709afa-3a1d-417b-8291-dd5391b93674",
   "metadata": {
    "jp-MarkdownHeadingCollapsed": true
   },
   "source": [
    "##### Setup and configuration Experiment 5, Execution 1: ResNet 18 Fine Tune Layer 4 Only Top Level Genres"
   ]
  },
  {
   "cell_type": "code",
   "execution_count": null,
   "id": "d566a265-a58d-495c-8344-d5c0b77951a1",
   "metadata": {},
   "outputs": [],
   "source": [
    "executions.EXECUTIONS = {\n",
    "    'experiment_5_execution_1_layer_4_top_level': {\n",
    "        'data_transformation': {\n",
    "            'name': 'mel_spectrogram_pre_saved',\n",
    "            'parameters': {\n",
    "                'sample_rate': 16000,\n",
    "                'number_frames': 16000 * 29,\n",
    "                'number_fft_points': 1024,\n",
    "                'hop_length': 1024,\n",
    "                'window_length': 512,\n",
    "                'power': 2.0,\n",
    "                'number_mel_channels': 128,\n",
    "                'to_decibels': True,\n",
    "            },\n",
    "        },\n",
    "        'data_split': {\n",
    "            'name': 'levels_split',\n",
    "            'parameters': {\n",
    "                'percentage_test': 0.2,\n",
    "                'selected_levels': [0],\n",
    "            },\n",
    "        },\n",
    "        'dataset':  {\n",
    "            'name': 'dataset_with_spectograms_pre_saved',\n",
    "            'parameters': {},\n",
    "        },\n",
    "        'dataloader': {\n",
    "            'name': 'dataloader',\n",
    "            'parameters': {\n",
    "                'batch_size': 700,\n",
    "                'shuffle': True,\n",
    "                'pin_memory': False,\n",
    "                'prefetch_factor': 5,\n",
    "                'persistent_workers': True,\n",
    "            },\n",
    "        },\n",
    "        'weights': {\n",
    "            'parameters': {\n",
    "                'method': 'inver_log',\n",
    "                'epsilon': 1e-6,\n",
    "            },\n",
    "        },\n",
    "        'model': {\n",
    "            'name': 'res_net_18_fine_tune_layer_4',\n",
    "            'parameters': {\n",
    "                'classifier_hidden_layers': [],\n",
    "                'threshold_method': 'roc_closest',\n",
    "                'dropout_rate': 0.7,\n",
    "            },\n",
    "        },\n",
    "        'loss': {\n",
    "            'losses': [\n",
    "                {\n",
    "                    'name': 'BCEWithLogitsLoss',\n",
    "                    'parameters': {\n",
    "                        'reduction': 'mean',\n",
    "                    },\n",
    "                },\n",
    "            ],\n",
    "            'weights': [\n",
    "                1,\n",
    "            ],\n",
    "        },\n",
    "        'optimizer': {\n",
    "            'name': 'Adam',\n",
    "            'parameters': {\n",
    "                'lr': 3e-3,\n",
    "            },\n",
    "        },\n",
    "        'learning_rate_schedulers': [\n",
    "            {\n",
    "                'name': 'OneCycleLR',\n",
    "                'parameters': {\n",
    "                    'max_lr': 3e-3,\n",
    "                    'total_steps': executions.NUMBER_EPOCHS * environment.math.ceil(environment.math.floor(102221 * 0.8) / (700)),\n",
    "                    # total_steps = number_epochs * ceil(floor(data_samples * percentage_train) / batch_size)\n",
    "                    'pct_start': 0.3,\n",
    "                    'anneal_strategy': 'cos',\n",
    "                    'div_factor': 25.0,\n",
    "                    'final_div_factor': 1e4,\n",
    "                },\n",
    "                'monitor': None,\n",
    "                'frequency': 'batch',\n",
    "            },\n",
    "        ],\n",
    "        'metrics_class': {\n",
    "            'metrics_classes': [\n",
    "                {\n",
    "                    'name': 'multi_label_metrics',\n",
    "                    'parameters': {},\n",
    "                },\n",
    "            ],\n",
    "            'weights': [\n",
    "                1,\n",
    "            ],\n",
    "        },\n",
    "        'weight_init_type': '',\n",
    "        'number_epochs': executions.NUMBER_EPOCHS,\n",
    "        'bench_mark': False,\n",
    "        'max_grad_norm': float('inf'),\n",
    "        'metrics': [\n",
    "            'false_negative',\n",
    "            'false_positive',\n",
    "            'true_negative',\n",
    "            'true_positive',\n",
    "            'accuracy',\n",
    "        ],\n",
    "        'objective': (\n",
    "            'accuracy',\n",
    "            'maximize',\n",
    "            'validation',\n",
    "        ),\n",
    "    }\n",
    "}"
   ]
  },
  {
   "cell_type": "markdown",
   "id": "53937541-7ab1-41cb-8aab-945aa7edac89",
   "metadata": {},
   "source": [
    "##### Execute Experiment 5, Execution 1: ResNet 18 Fine Tune Layer 4 Only Top Level Genres¶"
   ]
  },
  {
   "cell_type": "code",
   "execution_count": null,
   "id": "fc84cda2-78bf-4590-bf89-b27764028a36",
   "metadata": {
    "scrolled": true
   },
   "outputs": [],
   "source": [
    "main.main()"
   ]
  },
  {
   "cell_type": "markdown",
   "id": "bcc267a1-058c-46e4-b7fd-0bc5620693f4",
   "metadata": {},
   "source": [
    "#### Execution 2"
   ]
  },
  {
   "cell_type": "markdown",
   "id": "bf556fe0-9d29-4f0b-9e80-7de7e1318676",
   "metadata": {},
   "source": [
    "Secondly, we try Fine Tunning the last block only of the last layer of the ResNet18 (last layer and last block as the designers of ResNet18 defined it)"
   ]
  },
  {
   "cell_type": "markdown",
   "id": "03007ef7-768b-4cdf-a56e-f9df82307845",
   "metadata": {
    "jp-MarkdownHeadingCollapsed": true
   },
   "source": [
    "##### Setup and configuration Experiment 5, Execution 2: ResNet 18 Fine Tune Last Block of Layer 4 Only Top Level Genres"
   ]
  },
  {
   "cell_type": "code",
   "execution_count": null,
   "id": "9ee4bc94-8d82-4edf-a16a-663bf2716bf7",
   "metadata": {},
   "outputs": [],
   "source": [
    "executions.EXECUTIONS = {\n",
    "    'experiment_5_execution_2_layer_4_last_block_top_level': {\n",
    "        'data_transformation': {\n",
    "            'name': 'mel_spectrogram_pre_saved',\n",
    "            'parameters': {\n",
    "                'sample_rate': 16000,\n",
    "                'number_frames': 16000 * 29,\n",
    "                'number_fft_points': 1024,\n",
    "                'hop_length': 1024,\n",
    "                'window_length': 512,\n",
    "                'power': 2.0,\n",
    "                'number_mel_channels': 128,\n",
    "                'to_decibels': True,\n",
    "            },\n",
    "        },\n",
    "        'data_split': {\n",
    "            'name': 'levels_split',\n",
    "            'parameters': {\n",
    "                'percentage_test': 0.2,\n",
    "                'selected_levels': [0],\n",
    "            },\n",
    "        },\n",
    "        'dataset':  {\n",
    "            'name': 'dataset_with_spectograms_pre_saved',\n",
    "            'parameters': {},\n",
    "        },\n",
    "        'dataloader': {\n",
    "            'name': 'dataloader',\n",
    "            'parameters': {\n",
    "                'batch_size': 700,\n",
    "                'shuffle': True,\n",
    "                'pin_memory': False,\n",
    "                'prefetch_factor': 5,\n",
    "                'persistent_workers': True,\n",
    "            },\n",
    "        },\n",
    "        'weights': {\n",
    "            'parameters': {\n",
    "                'method': 'inver_log',\n",
    "                'epsilon': 1e-6,\n",
    "            },\n",
    "        },\n",
    "        'model': {\n",
    "            'name': 'res_net_18_fine_tune_layer_4_last_block',\n",
    "            'parameters': {\n",
    "                'classifier_hidden_layers': [],\n",
    "                'threshold_method': 'roc_closest',\n",
    "                'dropout_rate': 0.7,\n",
    "            },\n",
    "        },\n",
    "        'loss': {\n",
    "            'losses': [\n",
    "                {\n",
    "                    'name': 'BCEWithLogitsLoss',\n",
    "                    'parameters': {\n",
    "                        'reduction': 'mean',\n",
    "                    },\n",
    "                },\n",
    "            ],\n",
    "            'weights': [\n",
    "                1,\n",
    "            ],\n",
    "        },\n",
    "        'optimizer': {\n",
    "            'name': 'Adam',\n",
    "            'parameters': {\n",
    "                'lr': 3e-3,\n",
    "            },\n",
    "        },\n",
    "        'learning_rate_schedulers': [\n",
    "            {\n",
    "                'name': 'OneCycleLR',\n",
    "                'parameters': {\n",
    "                    'max_lr': 3e-3,\n",
    "                    'total_steps': executions.NUMBER_EPOCHS * environment.math.ceil(environment.math.floor(102221 * 0.8) / (700)),\n",
    "                    # total_steps = number_epochs * ceil(floor(data_samples * percentage_train) / batch_size)\n",
    "                    'pct_start': 0.3,\n",
    "                    'anneal_strategy': 'cos',\n",
    "                    'div_factor': 25.0,\n",
    "                    'final_div_factor': 1e4,\n",
    "                },\n",
    "                'monitor': None,\n",
    "                'frequency': 'batch',\n",
    "            },\n",
    "        ],\n",
    "        'metrics_class': {\n",
    "            'metrics_classes': [\n",
    "                {\n",
    "                    'name': 'multi_label_metrics',\n",
    "                    'parameters': {},\n",
    "                },\n",
    "            ],\n",
    "            'weights': [\n",
    "                1,\n",
    "            ],\n",
    "        },\n",
    "        'weight_init_type': '',\n",
    "        'number_epochs': executions.NUMBER_EPOCHS,\n",
    "        'bench_mark': False,\n",
    "        'max_grad_norm': float('inf'),\n",
    "        'metrics': [\n",
    "            'false_negative',\n",
    "            'false_positive',\n",
    "            'true_negative',\n",
    "            'true_positive',\n",
    "            'accuracy',\n",
    "        ],\n",
    "        'objective': (\n",
    "            'accuracy',\n",
    "            'maximize',\n",
    "            'validation',\n",
    "        ),\n",
    "    }\n",
    "}"
   ]
  },
  {
   "cell_type": "markdown",
   "id": "618db822-89fa-4ca8-99d8-2d39ec666776",
   "metadata": {},
   "source": [
    "##### Execute Experiment 5, Execution 2: ResNet 18 Fine Tune Last Block of Layer 4 Only Top Level Genres¶"
   ]
  },
  {
   "cell_type": "code",
   "execution_count": null,
   "id": "a75c6657-9f48-4397-8176-1764f38f3fed",
   "metadata": {
    "scrolled": true
   },
   "outputs": [],
   "source": [
    "main.main()"
   ]
  },
  {
   "cell_type": "markdown",
   "id": "6da1698b-73cc-40c8-a1d6-c626c4f523d7",
   "metadata": {},
   "source": [
    "## Experiment 6"
   ]
  },
  {
   "cell_type": "markdown",
   "id": "2693f60c-4ca3-4d05-ab48-996a68da1241",
   "metadata": {},
   "source": [
    "In this experiment we will try Fine Tunning the last block only of the last layer of the ResNet18 + classifier multihead with a head for each genre level, with spectogram as input, trying to classify all genres at the same time with diferent way to balance the positive weight of the classes in the loss."
   ]
  },
  {
   "cell_type": "markdown",
   "id": "8ee2846b-8010-4d76-b06d-b03cf3b362b2",
   "metadata": {},
   "source": [
    "#### Execution 1"
   ]
  },
  {
   "cell_type": "markdown",
   "id": "5d2f1f84-949d-4315-a8b5-d0d55740e9d6",
   "metadata": {},
   "source": [
    "Firstly, we try with same weight to all classes no matter what"
   ]
  },
  {
   "cell_type": "markdown",
   "id": "33d244e7-0b8f-421d-a78a-556d2add79ae",
   "metadata": {
    "editable": true,
    "jp-MarkdownHeadingCollapsed": true,
    "slideshow": {
     "slide_type": ""
    },
    "tags": []
   },
   "source": [
    "##### Setup and configuration Experiment 6, Execution 1: Equal"
   ]
  },
  {
   "cell_type": "code",
   "execution_count": null,
   "id": "9b80b07a-c668-4ed3-bd00-73f1a90114c2",
   "metadata": {
    "scrolled": true
   },
   "outputs": [],
   "source": [
    "executions.EXECUTIONS = {\n",
    "    'experiment_6_execution_1_multihead_equal': {\n",
    "        'data_transformation': {\n",
    "            'name': 'mel_spectrogram_pre_saved',\n",
    "            'parameters': {\n",
    "                'sample_rate': 16000,\n",
    "                'number_frames': 16000 * 29,\n",
    "                'number_fft_points': 1024,\n",
    "                'hop_length': 1024,\n",
    "                'window_length': 512,\n",
    "                'power': 2.0,\n",
    "                'number_mel_channels': 128,\n",
    "                'to_decibels': True,\n",
    "            },\n",
    "        },\n",
    "        'data_split': {\n",
    "            'name': 'levels_split',\n",
    "            'parameters': {\n",
    "                'percentage_test': 0.2,\n",
    "                'selected_levels': [],\n",
    "            },\n",
    "        },\n",
    "        'dataset':  {\n",
    "            'name': 'dataset_with_spectograms_pre_saved',\n",
    "            'parameters': {},\n",
    "        },\n",
    "        'dataloader': {\n",
    "            'name': 'dataloader',\n",
    "            'parameters': {\n",
    "                'batch_size': 700,\n",
    "                'shuffle': True,\n",
    "                'pin_memory': False,\n",
    "                'prefetch_factor': 5,\n",
    "                'persistent_workers': True,\n",
    "            },\n",
    "        },\n",
    "        'weights': {\n",
    "            'parameters': {\n",
    "                'method': 'none',\n",
    "                'epsilon': 1e-6,\n",
    "            },\n",
    "        },\n",
    "        'model': {\n",
    "            'name': 'res_net_18_multi_head',\n",
    "            'parameters': {\n",
    "                'classifier_hidden_layers': [],\n",
    "                'threshold_method': 'roc_closest',\n",
    "                'dropout_rate': 0.7,\n",
    "            },\n",
    "        },\n",
    "       'loss': {\n",
    "            'losses': [\n",
    "                {\n",
    "                    'name': 'BCEWithLogitsLoss',\n",
    "                    'parameters': {\n",
    "                        'reduction': 'mean',\n",
    "                    },\n",
    "                },\n",
    "                {\n",
    "                    'name': 'BCEWithLogitsLoss',\n",
    "                    'parameters': {\n",
    "                        'reduction': 'mean',\n",
    "                    },\n",
    "                },\n",
    "                {\n",
    "                    'name': 'BCEWithLogitsLoss',\n",
    "                    'parameters': {\n",
    "                        'reduction': 'mean',\n",
    "                    },\n",
    "                },\n",
    "                {\n",
    "                    'name': 'BCEWithLogitsLoss',\n",
    "                    'parameters': {\n",
    "                        'reduction': 'mean',\n",
    "                    },\n",
    "                },\n",
    "            ],\n",
    "            'weights': [\n",
    "                1,\n",
    "                1,\n",
    "                1,\n",
    "                1,\n",
    "            ],\n",
    "        },\n",
    "        'optimizer': {\n",
    "            'name': 'Adam',\n",
    "            'parameters': {\n",
    "                'lr': 3e-3,\n",
    "            },\n",
    "        },\n",
    "        'learning_rate_schedulers': [\n",
    "            {\n",
    "                'name': 'OneCycleLR',\n",
    "                'parameters': {\n",
    "                    'max_lr': 3e-3,\n",
    "                    'total_steps': executions.NUMBER_EPOCHS * environment.math.ceil(environment.math.floor(102221 * 0.8) / (700)),\n",
    "                    # total_steps = number_epochs * ceil(floor(data_samples * percentage_train) / batch_size)\n",
    "                    'pct_start': 0.3,\n",
    "                    'anneal_strategy': 'cos',\n",
    "                    'div_factor': 25.0,\n",
    "                    'final_div_factor': 1e4,\n",
    "                },\n",
    "                'monitor': None,\n",
    "                'frequency': 'batch',\n",
    "            },\n",
    "        ],\n",
    "        'metrics_class': {\n",
    "            'metrics_classes': [\n",
    "                {\n",
    "                    'name': 'multi_label_metrics',\n",
    "                    'parameters': {},\n",
    "                },\n",
    "                {\n",
    "                    'name': 'multi_label_metrics',\n",
    "                    'parameters': {},\n",
    "                },\n",
    "                {\n",
    "                    'name': 'multi_label_metrics',\n",
    "                    'parameters': {},\n",
    "                },\n",
    "                {\n",
    "                    'name': 'multi_label_metrics',\n",
    "                    'parameters': {},\n",
    "                },\n",
    "            ],\n",
    "            'weights': [\n",
    "                1/4,\n",
    "                1/4,\n",
    "                1/4,\n",
    "                1/4,\n",
    "            ],\n",
    "        },\n",
    "        'weight_init_type': '',\n",
    "        'number_epochs': executions.NUMBER_EPOCHS,\n",
    "        'bench_mark': False,\n",
    "        'max_grad_norm': float('inf'),\n",
    "        'metrics': [\n",
    "            'false_negative',\n",
    "            'false_positive',\n",
    "            'true_negative',\n",
    "            'true_positive',\n",
    "            'accuracy',\n",
    "        ],\n",
    "        'objective': (\n",
    "            'accuracy',\n",
    "            'maximize',\n",
    "            'validation',\n",
    "        ),\n",
    "    }\n",
    "}"
   ]
  },
  {
   "cell_type": "markdown",
   "id": "9b2fb6f6-a0b4-4368-9bb0-1207f161670a",
   "metadata": {},
   "source": [
    "##### Execute Experiment 6, Execution 1: Equal¶"
   ]
  },
  {
   "cell_type": "code",
   "execution_count": null,
   "id": "3cc61a94-7cfc-4e81-b84e-3267fa67788a",
   "metadata": {
    "scrolled": true
   },
   "outputs": [],
   "source": [
    "main.main()"
   ]
  },
  {
   "cell_type": "markdown",
   "id": "3d2409ba-4597-465d-9b31-9c0ac237a8b1",
   "metadata": {},
   "source": [
    "#### Execution 2"
   ]
  },
  {
   "cell_type": "markdown",
   "id": "2e9c2dc5-ddf1-4885-9a94-6fc2b9b98472",
   "metadata": {},
   "source": [
    "Secondly, we try giving more weight to the classes with more positive appearances"
   ]
  },
  {
   "cell_type": "markdown",
   "id": "4c3ee2be-cf05-49af-993c-dd2d65a03a70",
   "metadata": {
    "jp-MarkdownHeadingCollapsed": true
   },
   "source": [
    "##### Setup and configuration Experiment 6, Execution 2: More Appearance More Weight"
   ]
  },
  {
   "cell_type": "code",
   "execution_count": null,
   "id": "cf017cfb-75f6-4fb5-b1c8-a109224e7d48",
   "metadata": {
    "scrolled": true
   },
   "outputs": [],
   "source": [
    "executions.EXECUTIONS = {\n",
    "    'experiment_6_execution_2_multihead_ratio': {\n",
    "        'data_transformation': {\n",
    "            'name': 'mel_spectrogram_pre_saved',\n",
    "            'parameters': {\n",
    "                'sample_rate': 16000,\n",
    "                'number_frames': 16000 * 29,\n",
    "                'number_fft_points': 1024,\n",
    "                'hop_length': 1024,\n",
    "                'window_length': 512,\n",
    "                'power': 2.0,\n",
    "                'number_mel_channels': 128,\n",
    "                'to_decibels': True,\n",
    "            },\n",
    "        },\n",
    "        'data_split': {\n",
    "            'name': 'levels_split',\n",
    "            'parameters': {\n",
    "                'percentage_test': 0.2,\n",
    "                'selected_levels': [],\n",
    "            },\n",
    "        },\n",
    "        'dataset':  {\n",
    "            'name': 'dataset_with_spectograms_pre_saved',\n",
    "            'parameters': {},\n",
    "        },\n",
    "        'dataloader': {\n",
    "            'name': 'dataloader',\n",
    "            'parameters': {\n",
    "                'batch_size': 600,\n",
    "                'shuffle': True,\n",
    "                'pin_memory': False,\n",
    "                'prefetch_factor': 5,\n",
    "                'persistent_workers': True,\n",
    "            },\n",
    "        },\n",
    "        'weights': {\n",
    "            'parameters': {\n",
    "                'method': 'ratio',\n",
    "                'epsilon': 1e-6,\n",
    "            },\n",
    "        },\n",
    "        'model': {\n",
    "            'name': 'res_net_18_multi_head',\n",
    "            'parameters': {\n",
    "                'classifier_hidden_layers': [],\n",
    "                'threshold_method': 'roc_closest',\n",
    "                'dropout_rate': 0.7,\n",
    "            },\n",
    "        },\n",
    "       'loss': {\n",
    "            'losses': [\n",
    "                {\n",
    "                    'name': 'BCEWithLogitsLoss',\n",
    "                    'parameters': {\n",
    "                        'reduction': 'mean',\n",
    "                    },\n",
    "                },\n",
    "                {\n",
    "                    'name': 'BCEWithLogitsLoss',\n",
    "                    'parameters': {\n",
    "                        'reduction': 'mean',\n",
    "                    },\n",
    "                },\n",
    "                {\n",
    "                    'name': 'BCEWithLogitsLoss',\n",
    "                    'parameters': {\n",
    "                        'reduction': 'mean',\n",
    "                    },\n",
    "                },\n",
    "                {\n",
    "                    'name': 'BCEWithLogitsLoss',\n",
    "                    'parameters': {\n",
    "                        'reduction': 'mean',\n",
    "                    },\n",
    "                },\n",
    "            ],\n",
    "            'weights': [\n",
    "                1,\n",
    "                1,\n",
    "                1,\n",
    "                1,\n",
    "            ],\n",
    "        },\n",
    "        'optimizer': {\n",
    "            'name': 'Adam',\n",
    "            'parameters': {\n",
    "                'lr': 3e-3,\n",
    "            },\n",
    "        },\n",
    "        'learning_rate_schedulers': [\n",
    "            {\n",
    "                'name': 'OneCycleLR',\n",
    "                'parameters': {\n",
    "                    'max_lr': 3e-3,\n",
    "                    'total_steps': executions.NUMBER_EPOCHS * environment.math.ceil(environment.math.floor(102221 * 0.8) / (600)),\n",
    "                    # total_steps = number_epochs * ceil(floor(data_samples * percentage_train) / batch_size)\n",
    "                    'pct_start': 0.3,\n",
    "                    'anneal_strategy': 'cos',\n",
    "                    'div_factor': 25.0,\n",
    "                    'final_div_factor': 1e4,\n",
    "                },\n",
    "                'monitor': None,\n",
    "                'frequency': 'batch',\n",
    "            },\n",
    "        ],\n",
    "        'metrics_class': {\n",
    "            'metrics_classes': [\n",
    "                {\n",
    "                    'name': 'multi_label_metrics',\n",
    "                    'parameters': {},\n",
    "                },\n",
    "                {\n",
    "                    'name': 'multi_label_metrics',\n",
    "                    'parameters': {},\n",
    "                },\n",
    "                {\n",
    "                    'name': 'multi_label_metrics',\n",
    "                    'parameters': {},\n",
    "                },\n",
    "                {\n",
    "                    'name': 'multi_label_metrics',\n",
    "                    'parameters': {},\n",
    "                },\n",
    "            ],\n",
    "            'weights': [\n",
    "                1/4,\n",
    "                1/4,\n",
    "                1/4,\n",
    "                1/4,\n",
    "            ],\n",
    "        },\n",
    "        'weight_init_type': '',\n",
    "        'number_epochs': executions.NUMBER_EPOCHS,\n",
    "        'bench_mark': False,\n",
    "        'max_grad_norm': float('inf'),\n",
    "        'metrics': [\n",
    "            'false_negative',\n",
    "            'false_positive',\n",
    "            'true_negative',\n",
    "            'true_positive',\n",
    "            'accuracy',\n",
    "        ],\n",
    "        'objective': (\n",
    "            'accuracy',\n",
    "            'maximize',\n",
    "            'validation',\n",
    "        ),\n",
    "    }\n",
    "}"
   ]
  },
  {
   "cell_type": "markdown",
   "id": "0e58f535-6e65-40ee-aa37-6a135ecd6461",
   "metadata": {},
   "source": [
    "##### Execute Experiment 6, Execution 2: More Appearance More Weight"
   ]
  },
  {
   "cell_type": "code",
   "execution_count": null,
   "id": "01c42e52-c14c-4a6b-912c-59a73b4b2a47",
   "metadata": {
    "scrolled": true
   },
   "outputs": [],
   "source": [
    "main.main()"
   ]
  },
  {
   "cell_type": "markdown",
   "id": "fa38606c-2f73-45a9-858e-f07d25d14b65",
   "metadata": {},
   "source": [
    "#### Execution 3"
   ]
  },
  {
   "cell_type": "markdown",
   "id": "5313c866-c8f9-4b61-b67b-90b60b72d548",
   "metadata": {},
   "source": [
    "Thirdly, we try giving more weight to the classes with less positive appearances"
   ]
  },
  {
   "cell_type": "markdown",
   "id": "cdde4e26-930c-4a6f-969e-2a81dcdea2d9",
   "metadata": {
    "jp-MarkdownHeadingCollapsed": true
   },
   "source": [
    "##### Setup and configuration Experiment 6, Execution 3: Less Appearance More Weight"
   ]
  },
  {
   "cell_type": "code",
   "execution_count": null,
   "id": "a7292472-4c65-4e15-ac1b-853c45f39949",
   "metadata": {
    "scrolled": true
   },
   "outputs": [],
   "source": [
    "executions.EXECUTIONS = {\n",
    "    'experiment_6_execution_3_multihead_inv_log': {\n",
    "        'data_transformation': {\n",
    "            'name': 'mel_spectrogram_pre_saved',\n",
    "            'parameters': {\n",
    "                'sample_rate': 16000,\n",
    "                'number_frames': 16000 * 29,\n",
    "                'number_fft_points': 1024,\n",
    "                'hop_length': 1024,\n",
    "                'window_length': 512,\n",
    "                'power': 2.0,\n",
    "                'number_mel_channels': 128,\n",
    "                'to_decibels': True,\n",
    "            },\n",
    "        },\n",
    "        'data_split': {\n",
    "            'name': 'levels_split',\n",
    "            'parameters': {\n",
    "                'percentage_test': 0.2,\n",
    "                'selected_levels': [],\n",
    "            },\n",
    "        },\n",
    "        'dataset':  {\n",
    "            'name': 'dataset_with_spectograms_pre_saved',\n",
    "            'parameters': {},\n",
    "        },\n",
    "        'dataloader': {\n",
    "            'name': 'dataloader',\n",
    "            'parameters': {\n",
    "                'batch_size': 600,\n",
    "                'shuffle': True,\n",
    "                'pin_memory': False,\n",
    "                'prefetch_factor': 5,\n",
    "                'persistent_workers': True,\n",
    "            },\n",
    "        },\n",
    "        'weights': {\n",
    "            'parameters': {\n",
    "                'method': 'inver_log',\n",
    "                'epsilon': 1e-6,\n",
    "            },\n",
    "        },\n",
    "        'model': {\n",
    "            'name': 'res_net_18_multi_head',\n",
    "            'parameters': {\n",
    "                'classifier_hidden_layers': [],\n",
    "                'threshold_method': 'roc_closest',\n",
    "                'dropout_rate': 0.7,\n",
    "            },\n",
    "        },\n",
    "       'loss': {\n",
    "            'losses': [\n",
    "                {\n",
    "                    'name': 'BCEWithLogitsLoss',\n",
    "                    'parameters': {\n",
    "                        'reduction': 'mean',\n",
    "                    },\n",
    "                },\n",
    "                {\n",
    "                    'name': 'BCEWithLogitsLoss',\n",
    "                    'parameters': {\n",
    "                        'reduction': 'mean',\n",
    "                    },\n",
    "                },\n",
    "                {\n",
    "                    'name': 'BCEWithLogitsLoss',\n",
    "                    'parameters': {\n",
    "                        'reduction': 'mean',\n",
    "                    },\n",
    "                },\n",
    "                {\n",
    "                    'name': 'BCEWithLogitsLoss',\n",
    "                    'parameters': {\n",
    "                        'reduction': 'mean',\n",
    "                    },\n",
    "                },\n",
    "            ],\n",
    "            'weights': [\n",
    "                1,\n",
    "                1,\n",
    "                1,\n",
    "                1,\n",
    "            ],\n",
    "        },\n",
    "        'optimizer': {\n",
    "            'name': 'Adam',\n",
    "            'parameters': {\n",
    "                'lr': 3e-3,\n",
    "            },\n",
    "        },\n",
    "        'learning_rate_schedulers': [\n",
    "            {\n",
    "                'name': 'OneCycleLR',\n",
    "                'parameters': {\n",
    "                    'max_lr': 3e-3,\n",
    "                    'total_steps': executions.NUMBER_EPOCHS * environment.math.ceil(environment.math.floor(102221 * 0.8) / (600)),\n",
    "                    # total_steps = number_epochs * ceil(floor(data_samples * percentage_train) / batch_size)\n",
    "                    'pct_start': 0.3,\n",
    "                    'anneal_strategy': 'cos',\n",
    "                    'div_factor': 25.0,\n",
    "                    'final_div_factor': 1e4,\n",
    "                },\n",
    "                'monitor': None,\n",
    "                'frequency': 'batch',\n",
    "            },\n",
    "        ],\n",
    "        'metrics_class': {\n",
    "            'metrics_classes': [\n",
    "                {\n",
    "                    'name': 'multi_label_metrics',\n",
    "                    'parameters': {},\n",
    "                },\n",
    "                {\n",
    "                    'name': 'multi_label_metrics',\n",
    "                    'parameters': {},\n",
    "                },\n",
    "                {\n",
    "                    'name': 'multi_label_metrics',\n",
    "                    'parameters': {},\n",
    "                },\n",
    "                {\n",
    "                    'name': 'multi_label_metrics',\n",
    "                    'parameters': {},\n",
    "                },\n",
    "            ],\n",
    "            'weights': [\n",
    "                1/4,\n",
    "                1/4,\n",
    "                1/4,\n",
    "                1/4,\n",
    "            ],\n",
    "        },\n",
    "        'weight_init_type': '',\n",
    "        'number_epochs': executions.NUMBER_EPOCHS,\n",
    "        'bench_mark': False,\n",
    "        'max_grad_norm': float('inf'),\n",
    "        'metrics': [\n",
    "            'false_negative',\n",
    "            'false_positive',\n",
    "            'true_negative',\n",
    "            'true_positive',\n",
    "            'accuracy',\n",
    "        ],\n",
    "        'objective': (\n",
    "            'accuracy',\n",
    "            'maximize',\n",
    "            'validation',\n",
    "        ),\n",
    "    }\n",
    "}"
   ]
  },
  {
   "cell_type": "markdown",
   "id": "797cce3d-8a59-47b3-9ac9-7dcc00cbab1b",
   "metadata": {},
   "source": [
    "##### Execute Experiment 6, Execution 3: Less Appearance More Weight"
   ]
  },
  {
   "cell_type": "code",
   "execution_count": null,
   "id": "607eaa29-ddce-4cc6-a93d-bd969c2f2274",
   "metadata": {
    "scrolled": true
   },
   "outputs": [],
   "source": [
    "main.main()"
   ]
  },
  {
   "cell_type": "markdown",
   "id": "8e172587-0cde-4512-b10d-5966658af5a5",
   "metadata": {},
   "source": [
    "# Finish execution and close eveything"
   ]
  },
  {
   "cell_type": "code",
   "execution_count": null,
   "id": "9174a9fe-0332-4fd9-8ed4-3610a43e5d8c",
   "metadata": {},
   "outputs": [],
   "source": [
    "environment.finish()\n",
    "utils.collect_memory()\n",
    "%reset -sf"
   ]
  }
 ],
 "metadata": {
  "kernelspec": {
   "display_name": "Python (XNAP)",
   "language": "python",
   "name": "xnap"
  },
  "language_info": {
   "codemirror_mode": {
    "name": "ipython",
    "version": 3
   },
   "file_extension": ".py",
   "mimetype": "text/x-python",
   "name": "python",
   "nbconvert_exporter": "python",
   "pygments_lexer": "ipython3",
   "version": "3.8.20"
  }
 },
 "nbformat": 4,
 "nbformat_minor": 5
}
